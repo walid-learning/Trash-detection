{
  "cells": [
    {
      "cell_type": "markdown",
      "id": "31f1844c-232a-4928-9dae-c69679e7aa51",
      "metadata": {
        "tags": [],
        "id": "31f1844c-232a-4928-9dae-c69679e7aa51"
      },
      "source": [
        "# Installation des dépendances\n",
        "\n",
        "Pour pouvoir exécuter ce Notebook, l'environnement de développement doit être bien configuré. Puisque dans ce POC nous utilisons YoloV5, il faut installer de nombreuses dépendances dont PyTorch.\n",
        "\n",
        "<div class=\"alert alert-info\">\n",
        "    Afin d'exécuter ce Notebook sur AWS SageMaker, il faut utiliser le kernel <code>conda_python3</code>.\n",
        "</div>\n",
        "\n",
        "<div class=\"alert alert-info\">\n",
        "    Il faut compter environ 5 minutes pour l'installation des dépendances.\n",
        "</div>"
      ]
    },
    {
      "cell_type": "code",
      "execution_count": 1,
      "id": "e050391e-b398-4ed3-842d-6edc4c1a72af",
      "metadata": {
        "colab": {
          "base_uri": "https://localhost:8080/"
        },
        "id": "e050391e-b398-4ed3-842d-6edc4c1a72af",
        "outputId": "a8b1f7fa-6280-4d9b-e0fc-d8424e598e73"
      },
      "outputs": [
        {
          "output_type": "stream",
          "name": "stdout",
          "text": [
            "Cloning into 'yolov5'...\n",
            "remote: Enumerating objects: 12560, done.\u001b[K\n",
            "remote: Total 12560 (delta 0), reused 0 (delta 0), pack-reused 12560\u001b[K\n",
            "Receiving objects: 100% (12560/12560), 12.37 MiB | 26.61 MiB/s, done.\n",
            "Resolving deltas: 100% (8578/8578), done.\n"
          ]
        }
      ],
      "source": [
        "!git clone https://github.com/rkuo2000/yolov5"
      ]
    },
    {
      "cell_type": "markdown",
      "id": "ebb5cf22-db90-49da-aaef-ba62d89cd04f",
      "metadata": {
        "id": "ebb5cf22-db90-49da-aaef-ba62d89cd04f"
      },
      "source": [
        "On installe ensuite les dépendances pour YoloV5."
      ]
    },
    {
      "cell_type": "code",
      "execution_count": 2,
      "id": "7ed2f0c1-f958-4de7-9b6c-d2356041f848",
      "metadata": {
        "colab": {
          "base_uri": "https://localhost:8080/"
        },
        "id": "7ed2f0c1-f958-4de7-9b6c-d2356041f848",
        "outputId": "f7701bda-8568-4de2-b536-f4dbedba7618"
      },
      "outputs": [
        {
          "output_type": "stream",
          "name": "stdout",
          "text": [
            "\u001b[?25l     \u001b[90m━━━━━━━━━━━━━━━━━━━━━━━━━━━━━━━━━━━━━━━━\u001b[0m \u001b[32m0.0/1.6 MB\u001b[0m \u001b[31m?\u001b[0m eta \u001b[36m-:--:--\u001b[0m\r\u001b[2K     \u001b[91m━━━━━━━\u001b[0m\u001b[90m╺\u001b[0m\u001b[90m━━━━━━━━━━━━━━━━━━━━━━━━━━━━━━━━\u001b[0m \u001b[32m0.3/1.6 MB\u001b[0m \u001b[31m7.9 MB/s\u001b[0m eta \u001b[36m0:00:01\u001b[0m\r\u001b[2K     \u001b[91m━━━━━━━━━━━━━━━━━━━━━━━━━━━━━━━━━━\u001b[0m\u001b[91m╸\u001b[0m\u001b[90m━━━━━\u001b[0m \u001b[32m1.4/1.6 MB\u001b[0m \u001b[31m19.3 MB/s\u001b[0m eta \u001b[36m0:00:01\u001b[0m\r\u001b[2K     \u001b[90m━━━━━━━━━━━━━━━━━━━━━━━━━━━━━━━━━━━━━━━━\u001b[0m \u001b[32m1.6/1.6 MB\u001b[0m \u001b[31m15.0 MB/s\u001b[0m eta \u001b[36m0:00:00\u001b[0m\n",
            "\u001b[?25h"
          ]
        }
      ],
      "source": [
        "!pip install -q -r yolov5/requirements.txt"
      ]
    },
    {
      "cell_type": "markdown",
      "id": "b8a1c99b-3666-4d5e-827f-b9d73885dd5e",
      "metadata": {
        "id": "b8a1c99b-3666-4d5e-827f-b9d73885dd5e"
      },
      "source": [
        "Enfin, nous installons les dépendances liées aux frameworks Deep Learning (ici PyTorch).\n",
        "\n",
        "<div class=\"alert alert-warning\">\n",
        "    Attention, il faut utiliser la bonne version de PyTorch : sur SageMaker, c'est la version <code>1.11.0+cu113</code> mais sur un autre environment, cela peut être différent !\n",
        "</div>"
      ]
    },
    {
      "cell_type": "code",
      "execution_count": 3,
      "id": "47fe1b86-795c-42dd-a5e8-bb3be33f9617",
      "metadata": {
        "id": "47fe1b86-795c-42dd-a5e8-bb3be33f9617",
        "colab": {
          "base_uri": "https://localhost:8080/"
        },
        "outputId": "5f4c89e9-da81-443c-8bc9-59b3fc878e62"
      },
      "outputs": [
        {
          "output_type": "stream",
          "name": "stdout",
          "text": [
            "\u001b[2K     \u001b[90m━━━━━━━━━━━━━━━━━━━━━━━━━━━━━━━━━━━━━━━━\u001b[0m \u001b[32m1.6/1.6 GB\u001b[0m \u001b[31m969.0 kB/s\u001b[0m eta \u001b[36m0:00:00\u001b[0m\n",
            "\u001b[2K     \u001b[90m━━━━━━━━━━━━━━━━━━━━━━━━━━━━━━━━━━━━━━━━\u001b[0m \u001b[32m22.3/22.3 MB\u001b[0m \u001b[31m24.7 MB/s\u001b[0m eta \u001b[36m0:00:00\u001b[0m\n",
            "\u001b[2K     \u001b[90m━━━━━━━━━━━━━━━━━━━━━━━━━━━━━━━━━━━━━━━━\u001b[0m \u001b[32m2.9/2.9 MB\u001b[0m \u001b[31m4.0 MB/s\u001b[0m eta \u001b[36m0:00:00\u001b[0m\n",
            "\u001b[2K     \u001b[90m━━━━━━━━━━━━━━━━━━━━━━━━━━━━━━━━━━━━━━━━\u001b[0m \u001b[32m52.2/52.2 MB\u001b[0m \u001b[31m12.4 MB/s\u001b[0m eta \u001b[36m0:00:00\u001b[0m\n",
            "\u001b[?25h\u001b[31mERROR: pip's dependency resolver does not currently take into account all the packages that are installed. This behaviour is the source of the following dependency conflicts.\n",
            "torchtext 0.15.1 requires torch==2.0.0, but you have torch 1.11.0+cu113 which is incompatible.\n",
            "torchdata 0.6.0 requires torch==2.0.0, but you have torch 1.11.0+cu113 which is incompatible.\u001b[0m\u001b[31m\n",
            "\u001b[0m"
          ]
        }
      ],
      "source": [
        "!pip install -q \\\n",
        "    torch==1.11.0+cu113 \\\n",
        "    torchvision==0.12.0+cu113 \\\n",
        "    torchaudio==0.11.0 \\\n",
        "    gcc7 \\\n",
        "    opendatasets \\\n",
        "    pycocotools \\\n",
        "    split-folders \\\n",
        "    --extra-index-url https://download.pytorch.org/whl/cu113"
      ]
    },
    {
      "cell_type": "code",
      "execution_count": 4,
      "id": "9b2233a9-fad3-489b-8744-60d0fb0ee7f8",
      "metadata": {
        "id": "9b2233a9-fad3-489b-8744-60d0fb0ee7f8"
      },
      "outputs": [],
      "source": [
        "# Ceci est une petite correction nécessaire pour YoloV5\n",
        "!pip install -q --upgrade scipy"
      ]
    },
    {
      "cell_type": "markdown",
      "id": "b3c85524-0e4e-41e3-8c2f-d012711993e0",
      "metadata": {
        "tags": [],
        "id": "b3c85524-0e4e-41e3-8c2f-d012711993e0"
      },
      "source": [
        "<div class=\"alert alert-info\">\n",
        "    Il est nécessaire de créer un compte sur <a href=\"https://kaggle.com\" target=\"_blank\">Kaggle</a> pour télécharger les données.\n",
        "</div>"
      ]
    },
    {
      "cell_type": "code",
      "execution_count": 5,
      "id": "1435366b-394e-4d13-8510-92e29d5c7da8",
      "metadata": {
        "colab": {
          "base_uri": "https://localhost:8080/"
        },
        "id": "1435366b-394e-4d13-8510-92e29d5c7da8",
        "outputId": "3cd1e2db-3969-4e7d-dc95-c3bcb06454fa"
      },
      "outputs": [
        {
          "output_type": "stream",
          "name": "stdout",
          "text": [
            "Downloading tacotrashdataset.zip to ./tacotrashdataset\n"
          ]
        },
        {
          "output_type": "stream",
          "name": "stderr",
          "text": [
            "100%|██████████| 2.79G/2.79G [00:23<00:00, 125MB/s]\n"
          ]
        },
        {
          "output_type": "stream",
          "name": "stdout",
          "text": [
            "\n"
          ]
        }
      ],
      "source": [
        "import opendatasets as od\n",
        "\n",
        "od.download(\"https://www.kaggle.com/datasets/kneroma/tacotrashdataset\")"
      ]
    },
    {
      "cell_type": "markdown",
      "id": "d04083dd-1ca1-4a1e-882b-c04d9264835f",
      "metadata": {
        "id": "d04083dd-1ca1-4a1e-882b-c04d9264835f"
      },
      "source": [
        "# Préparation des données\n",
        "\n",
        "Le but de cette partie est de **transformer le fichier d'annotations JSON en plusieurs fichier texte** que le modèle YoloV5 va utiliser pour s'entraîner et notamment apprendre quelles bounding boxes il doit être capable de retrouver.\n",
        "\n",
        "Dans ce format, il y a ainsi **un fichier texte par image** où pour chaque déchet dans l'image est associée une ligne contenant l'identifiant du déchet et les coordonnées de la bounding box. Dans l'exemple suivant, l'image associée contiendrait 2 types de déchets (identifiants 4 et 7) et 3 déchets présents sur l'image."
      ]
    },
    {
      "cell_type": "raw",
      "id": "ee4037a1-af8c-415d-ac7f-b28bf5921bfd",
      "metadata": {
        "id": "ee4037a1-af8c-415d-ac7f-b28bf5921bfd"
      },
      "source": [
        "4 0.282368 0.478282 0.369551 0.636408\n",
        "4 0.69974 0.540264 0.355888 0.685212\n",
        "7 0.728042 0.244265 0.192583 0.093216"
      ]
    },
    {
      "cell_type": "code",
      "execution_count": 6,
      "id": "46f330dd-3118-46be-bb0d-5aafd2ab39f3",
      "metadata": {
        "tags": [],
        "colab": {
          "base_uri": "https://localhost:8080/"
        },
        "id": "46f330dd-3118-46be-bb0d-5aafd2ab39f3",
        "outputId": "648458ac-a508-4e87-a462-69a10bb801e2"
      },
      "outputs": [
        {
          "output_type": "stream",
          "name": "stdout",
          "text": [
            "loading annotations into memory...\n",
            "Done (t=0.11s)\n",
            "creating index...\n",
            "index created!\n"
          ]
        }
      ],
      "source": [
        "from pycocotools.coco import COCO\n",
        "\n",
        "# On importe le fichier des annotations sous la forme d'un objet COCO\n",
        "data_source = COCO(annotation_file=\"./tacotrashdataset/data/annotations.json\")"
      ]
    },
    {
      "cell_type": "code",
      "source": [
        "data_source"
      ],
      "metadata": {
        "colab": {
          "base_uri": "https://localhost:8080/"
        },
        "id": "QjV-awkoJJCL",
        "outputId": "687d0cff-725f-47b4-9766-2bbd19ea23ae"
      },
      "id": "QjV-awkoJJCL",
      "execution_count": null,
      "outputs": [
        {
          "output_type": "execute_result",
          "data": {
            "text/plain": [
              "<pycocotools.coco.COCO at 0x7f7c1e64eb80>"
            ]
          },
          "metadata": {},
          "execution_count": 7
        }
      ]
    },
    {
      "cell_type": "markdown",
      "id": "2634d52e-8436-4240-bc35-c4b23b4fe071",
      "metadata": {
        "id": "2634d52e-8436-4240-bc35-c4b23b4fe071"
      },
      "source": [
        "On extrait ensuite les identifiants des images, des catégories et des super catégories.\n",
        "\n",
        "### ➡️ À toi de jouer\n",
        "\n",
        "Créer les objets Python suivants.\n",
        "\n",
        "- `categories` est une lmiste contient l'ensemble des catégories avec un identifiant (`id`), le nom de la catégorie (`name`) et le nom de la super catégorie (`supecategory`). Par exemple, on aura `[{'supercategory': 'Aluminium foil', 'id': 0, 'name': 'Aluminium foil'}, ...]`.\n",
        "- `classes_num` est un dictionnaire qui indique l'identifiant (`id`) de n'importe quel catégorie. Par exemple, on aura `{'Aluminium foil': 0, 'Battery': 1, ...}`.\n",
        "- `coco_labels` est un dictionnaire qui contient, pour chaque clé incrémentale, l'identifiant de la catégorie. Par exemple, on aura `{0: 0, 1: 1, ...}`. On utilise ce dictionnaire si par exemple on ne souhaite pas utiliser 100% des catégories disponibles, mais uniquement une partie.\n",
        "- `coco_labels_inverse` est le dictionnaire inverse de `coco_labels` : si `coco_labels[A] = B`, alors `coco_labels_inverse[B] = A`."
      ]
    },
    {
      "cell_type": "markdown",
      "source": [],
      "metadata": {
        "id": "8KP0_dJF914G"
      },
      "id": "8KP0_dJF914G"
    },
    {
      "cell_type": "code",
      "execution_count": 11,
      "id": "5f130961-ecae-4619-ae17-76b81042fd97",
      "metadata": {
        "tags": [],
        "colab": {
          "base_uri": "https://localhost:8080/"
        },
        "id": "5f130961-ecae-4619-ae17-76b81042fd97",
        "outputId": "f6a623c6-60ad-4535-b325-0f4708e67c8c"
      },
      "outputs": [
        {
          "output_type": "stream",
          "name": "stdout",
          "text": [
            "[{'supercategory': 'Aluminium foil', 'id': 0, 'name': 'Aluminium foil'}, {'supercategory': 'Battery', 'id': 1, 'name': 'Battery'}, {'supercategory': 'Blister pack', 'id': 2, 'name': 'Aluminium blister pack'}, {'supercategory': 'Blister pack', 'id': 3, 'name': 'Carded blister pack'}, {'supercategory': 'Bottle', 'id': 4, 'name': 'Other plastic bottle'}, {'supercategory': 'Bottle', 'id': 5, 'name': 'Clear plastic bottle'}, {'supercategory': 'Bottle', 'id': 6, 'name': 'Glass bottle'}, {'supercategory': 'Bottle cap', 'id': 7, 'name': 'Plastic bottle cap'}, {'supercategory': 'Bottle cap', 'id': 8, 'name': 'Metal bottle cap'}, {'supercategory': 'Broken glass', 'id': 9, 'name': 'Broken glass'}, {'supercategory': 'Can', 'id': 10, 'name': 'Food Can'}, {'supercategory': 'Can', 'id': 11, 'name': 'Aerosol'}, {'supercategory': 'Can', 'id': 12, 'name': 'Drink can'}, {'supercategory': 'Carton', 'id': 13, 'name': 'Toilet tube'}, {'supercategory': 'Carton', 'id': 14, 'name': 'Other carton'}, {'supercategory': 'Carton', 'id': 15, 'name': 'Egg carton'}, {'supercategory': 'Carton', 'id': 16, 'name': 'Drink carton'}, {'supercategory': 'Carton', 'id': 17, 'name': 'Corrugated carton'}, {'supercategory': 'Carton', 'id': 18, 'name': 'Meal carton'}, {'supercategory': 'Carton', 'id': 19, 'name': 'Pizza box'}, {'supercategory': 'Cup', 'id': 20, 'name': 'Paper cup'}, {'supercategory': 'Cup', 'id': 21, 'name': 'Disposable plastic cup'}, {'supercategory': 'Cup', 'id': 22, 'name': 'Foam cup'}, {'supercategory': 'Cup', 'id': 23, 'name': 'Glass cup'}, {'supercategory': 'Cup', 'id': 24, 'name': 'Other plastic cup'}, {'supercategory': 'Food waste', 'id': 25, 'name': 'Food waste'}, {'supercategory': 'Glass jar', 'id': 26, 'name': 'Glass jar'}, {'supercategory': 'Lid', 'id': 27, 'name': 'Plastic lid'}, {'supercategory': 'Lid', 'id': 28, 'name': 'Metal lid'}, {'supercategory': 'Other plastic', 'id': 29, 'name': 'Other plastic'}, {'supercategory': 'Paper', 'id': 30, 'name': 'Magazine paper'}, {'supercategory': 'Paper', 'id': 31, 'name': 'Tissues'}, {'supercategory': 'Paper', 'id': 32, 'name': 'Wrapping paper'}, {'supercategory': 'Paper', 'id': 33, 'name': 'Normal paper'}, {'supercategory': 'Paper bag', 'id': 34, 'name': 'Paper bag'}, {'supercategory': 'Paper bag', 'id': 35, 'name': 'Plastified paper bag'}, {'supercategory': 'Plastic bag & wrapper', 'id': 36, 'name': 'Plastic film'}, {'supercategory': 'Plastic bag & wrapper', 'id': 37, 'name': 'Six pack rings'}, {'supercategory': 'Plastic bag & wrapper', 'id': 38, 'name': 'Garbage bag'}, {'supercategory': 'Plastic bag & wrapper', 'id': 39, 'name': 'Other plastic wrapper'}, {'supercategory': 'Plastic bag & wrapper', 'id': 40, 'name': 'Single-use carrier bag'}, {'supercategory': 'Plastic bag & wrapper', 'id': 41, 'name': 'Polypropylene bag'}, {'supercategory': 'Plastic bag & wrapper', 'id': 42, 'name': 'Crisp packet'}, {'supercategory': 'Plastic container', 'id': 43, 'name': 'Spread tub'}, {'supercategory': 'Plastic container', 'id': 44, 'name': 'Tupperware'}, {'supercategory': 'Plastic container', 'id': 45, 'name': 'Disposable food container'}, {'supercategory': 'Plastic container', 'id': 46, 'name': 'Foam food container'}, {'supercategory': 'Plastic container', 'id': 47, 'name': 'Other plastic container'}, {'supercategory': 'Plastic glooves', 'id': 48, 'name': 'Plastic glooves'}, {'supercategory': 'Plastic utensils', 'id': 49, 'name': 'Plastic utensils'}, {'supercategory': 'Pop tab', 'id': 50, 'name': 'Pop tab'}, {'supercategory': 'Rope & strings', 'id': 51, 'name': 'Rope & strings'}, {'supercategory': 'Scrap metal', 'id': 52, 'name': 'Scrap metal'}, {'supercategory': 'Shoe', 'id': 53, 'name': 'Shoe'}, {'supercategory': 'Squeezable tube', 'id': 54, 'name': 'Squeezable tube'}, {'supercategory': 'Straw', 'id': 55, 'name': 'Plastic straw'}, {'supercategory': 'Straw', 'id': 56, 'name': 'Paper straw'}, {'supercategory': 'Styrofoam piece', 'id': 57, 'name': 'Styrofoam piece'}, {'supercategory': 'Unlabeled litter', 'id': 58, 'name': 'Unlabeled litter'}, {'supercategory': 'Cigarette', 'id': 59, 'name': 'Cigarette'}]\n"
          ]
        }
      ],
      "source": [
        "img_ids = data_source.getImgIds()\n",
        "catIds = data_source.getCatIds()\n",
        "categories = data_source.loadCats(catIds)\n",
        "# Trier les catégories selon l'ID\n",
        "# TODO\n",
        "categories = sorted(categories, key  = lambda id : id[\"id\"])\n",
        "print(categories)\n",
        "\n",
        "classes = {}\n",
        "coco_labels = {}\n",
        "coco_labels_inverse = {}\n",
        "class_num = {}\n",
        "i = 0\n",
        "# Pour chaque catégorie\n",
        "for c in categories:\n",
        "\n",
        "    # Remplir les variables coco_labels, coco_labels_inverse et classes\n",
        "    # TODO\n",
        "\n",
        "    coco_labels[len(classes)] = c['id']\n",
        "    coco_labels_inverse[c['id']] = len(classes)\n",
        "    classes[c['name']] = len(classes)\n",
        "    class_num[c['name']] = c['id']"
      ]
    },
    {
      "cell_type": "code",
      "source": [
        "print(coco_labels)"
      ],
      "metadata": {
        "colab": {
          "base_uri": "https://localhost:8080/"
        },
        "id": "1-UN2QVHHVNy",
        "outputId": "bcdb5646-d9d7-4e4b-8976-4b3373d24f13"
      },
      "id": "1-UN2QVHHVNy",
      "execution_count": 8,
      "outputs": [
        {
          "output_type": "stream",
          "name": "stdout",
          "text": [
            "{0: 0, 1: 1, 2: 2, 3: 3, 4: 4, 5: 5, 6: 6, 7: 7, 8: 8, 9: 9, 10: 10, 11: 11, 12: 12, 13: 13, 14: 14, 15: 15, 16: 16, 17: 17, 18: 18, 19: 19, 20: 20, 21: 21, 22: 22, 23: 23, 24: 24, 25: 25, 26: 26, 27: 27, 28: 28, 29: 29, 30: 30, 31: 31, 32: 32, 33: 33, 34: 34, 35: 35, 36: 36, 37: 37, 38: 38, 39: 39, 40: 40, 41: 41, 42: 42, 43: 43, 44: 44, 45: 45, 46: 46, 47: 47, 48: 48, 49: 49, 50: 50, 51: 51, 52: 52, 53: 53, 54: 54, 55: 55, 56: 56, 57: 57, 58: 58, 59: 59}\n"
          ]
        }
      ]
    },
    {
      "cell_type": "markdown",
      "id": "9a07a1b9-7084-448f-9486-f3193fff44d4",
      "metadata": {
        "id": "9a07a1b9-7084-448f-9486-f3193fff44d4"
      },
      "source": [
        "On peut vérifier que l'on dipose de toutes les informations en affichant une dizaine de super catégories."
      ]
    },
    {
      "cell_type": "code",
      "execution_count": 9,
      "id": "52947a5a-68f0-4ff8-8a7e-d1bb378926cb",
      "metadata": {
        "tags": [],
        "colab": {
          "base_uri": "https://localhost:8080/"
        },
        "id": "52947a5a-68f0-4ff8-8a7e-d1bb378926cb",
        "outputId": "6046f0d1-36b8-49ec-e7b7-1cc4fe336fab"
      },
      "outputs": [
        {
          "output_type": "execute_result",
          "data": {
            "text/plain": [
              "[{'supercategory': 'Aluminium foil', 'id': 0, 'name': 'Aluminium foil'},\n",
              " {'supercategory': 'Battery', 'id': 1, 'name': 'Battery'},\n",
              " {'supercategory': 'Blister pack', 'id': 2, 'name': 'Aluminium blister pack'},\n",
              " {'supercategory': 'Blister pack', 'id': 3, 'name': 'Carded blister pack'},\n",
              " {'supercategory': 'Bottle', 'id': 4, 'name': 'Other plastic bottle'},\n",
              " {'supercategory': 'Bottle', 'id': 5, 'name': 'Clear plastic bottle'},\n",
              " {'supercategory': 'Bottle', 'id': 6, 'name': 'Glass bottle'},\n",
              " {'supercategory': 'Bottle cap', 'id': 7, 'name': 'Plastic bottle cap'},\n",
              " {'supercategory': 'Bottle cap', 'id': 8, 'name': 'Metal bottle cap'},\n",
              " {'supercategory': 'Broken glass', 'id': 9, 'name': 'Broken glass'}]"
            ]
          },
          "metadata": {},
          "execution_count": 9
        }
      ],
      "source": [
        "categories[:10]"
      ]
    },
    {
      "cell_type": "markdown",
      "id": "564f7fe5-abdf-44e1-86c7-88f1c712c565",
      "metadata": {
        "id": "564f7fe5-abdf-44e1-86c7-88f1c712c565"
      },
      "source": [
        "De même pour les catégories."
      ]
    },
    {
      "cell_type": "code",
      "execution_count": 12,
      "id": "cf20c5b1-71b9-4066-a012-eb7b3b76000c",
      "metadata": {
        "tags": [],
        "colab": {
          "base_uri": "https://localhost:8080/"
        },
        "id": "cf20c5b1-71b9-4066-a012-eb7b3b76000c",
        "outputId": "a02433e2-fcd1-4291-874b-668b21d271ac"
      },
      "outputs": [
        {
          "output_type": "execute_result",
          "data": {
            "text/plain": [
              "{'Aluminium foil': 0,\n",
              " 'Battery': 1,\n",
              " 'Aluminium blister pack': 2,\n",
              " 'Carded blister pack': 3,\n",
              " 'Other plastic bottle': 4,\n",
              " 'Clear plastic bottle': 5,\n",
              " 'Glass bottle': 6,\n",
              " 'Plastic bottle cap': 7,\n",
              " 'Metal bottle cap': 8,\n",
              " 'Broken glass': 9,\n",
              " 'Food Can': 10,\n",
              " 'Aerosol': 11,\n",
              " 'Drink can': 12,\n",
              " 'Toilet tube': 13,\n",
              " 'Other carton': 14,\n",
              " 'Egg carton': 15,\n",
              " 'Drink carton': 16,\n",
              " 'Corrugated carton': 17,\n",
              " 'Meal carton': 18,\n",
              " 'Pizza box': 19,\n",
              " 'Paper cup': 20,\n",
              " 'Disposable plastic cup': 21,\n",
              " 'Foam cup': 22,\n",
              " 'Glass cup': 23,\n",
              " 'Other plastic cup': 24,\n",
              " 'Food waste': 25,\n",
              " 'Glass jar': 26,\n",
              " 'Plastic lid': 27,\n",
              " 'Metal lid': 28,\n",
              " 'Other plastic': 29,\n",
              " 'Magazine paper': 30,\n",
              " 'Tissues': 31,\n",
              " 'Wrapping paper': 32,\n",
              " 'Normal paper': 33,\n",
              " 'Paper bag': 34,\n",
              " 'Plastified paper bag': 35,\n",
              " 'Plastic film': 36,\n",
              " 'Six pack rings': 37,\n",
              " 'Garbage bag': 38,\n",
              " 'Other plastic wrapper': 39,\n",
              " 'Single-use carrier bag': 40,\n",
              " 'Polypropylene bag': 41,\n",
              " 'Crisp packet': 42,\n",
              " 'Spread tub': 43,\n",
              " 'Tupperware': 44,\n",
              " 'Disposable food container': 45,\n",
              " 'Foam food container': 46,\n",
              " 'Other plastic container': 47,\n",
              " 'Plastic glooves': 48,\n",
              " 'Plastic utensils': 49,\n",
              " 'Pop tab': 50,\n",
              " 'Rope & strings': 51,\n",
              " 'Scrap metal': 52,\n",
              " 'Shoe': 53,\n",
              " 'Squeezable tube': 54,\n",
              " 'Plastic straw': 55,\n",
              " 'Paper straw': 56,\n",
              " 'Styrofoam piece': 57,\n",
              " 'Unlabeled litter': 58,\n",
              " 'Cigarette': 59}"
            ]
          },
          "metadata": {},
          "execution_count": 12
        }
      ],
      "source": [
        "class_num"
      ]
    },
    {
      "cell_type": "markdown",
      "id": "b823b6f9-26a3-4485-9cad-55a384390bfb",
      "metadata": {
        "id": "b823b6f9-26a3-4485-9cad-55a384390bfb"
      },
      "source": [
        "Si tout est bon, nous pouvons alors construire les fichiers texte.\n",
        "\n",
        "### ➡️ À toi de jouer\n",
        "\n",
        "Pour chaque image, nous allons créer un fichier texte qui contient les annotations. Pour cela, nous allons donc utiliser la variable `coco_labels_inverse` pour chaque ligne d'annotation, et remplir le reste de la ligne avec la bounding box associée."
      ]
    },
    {
      "cell_type": "code",
      "source": [
        "import numpy as np\n",
        "import tqdm\n",
        "import os\n",
        "import shutil"
      ],
      "metadata": {
        "id": "QwiRvkzcEtQa"
      },
      "id": "QwiRvkzcEtQa",
      "execution_count": null,
      "outputs": []
    },
    {
      "cell_type": "code",
      "execution_count": null,
      "id": "e0cf4809-28e3-4bd1-8600-080f499d4b97",
      "metadata": {
        "colab": {
          "base_uri": "https://localhost:8080/"
        },
        "id": "e0cf4809-28e3-4bd1-8600-080f499d4b97",
        "outputId": "fc7090f1-ad96-4063-ddcf-3e95e2d1dd48"
      },
      "outputs": [
        {
          "output_type": "stream",
          "name": "stderr",
          "text": [
            "Conversion fichier JSON en fichier texte: 1500it [00:15, 94.75it/s] \n"
          ]
        }
      ],
      "source": [
        "# Nous créons un dossier temporaire pour y mettre les images et les fichiers texte\n",
        "!mkdir -p tmp/labels tmp/images\n",
        "\n",
        "save_base_path  = 'tmp/labels/'\n",
        "save_image_path = 'tmp/images/'\n",
        "i = 0\n",
        "# Cette boucle permet d'extraire le contenu de chaque fichier texte à partir du fichier annotation et de créer le fichier\n",
        "for index, img_id in tqdm.tqdm(enumerate(img_ids), desc=\"Conversion fichier JSON en fichier texte\"):\n",
        "    # Pour chaque image on extrait le nom et ses dimensions\n",
        "    img_info = data_source.loadImgs(img_id)[0]\n",
        "    i = i+1\n",
        "    save_name = img_info['file_name'].replace('/', '_')\n",
        "    file_name = save_name.split('.')[0]\n",
        "    height = img_info['height']\n",
        "    width = img_info['width']\n",
        "    # On créé le fichier texte\n",
        "    save_path = save_base_path + file_name + '.txt'\n",
        "    is_exist = False #os.path.isfile(save_path)\n",
        "    \n",
        "    # On remplit le fichier\n",
        "    with open(save_path, mode='w') as fp:\n",
        "        # Extraction de l'identifiant de la catégorie\n",
        "        annotation_id = data_source.getAnnIds(img_id)\n",
        "        boxes = np.zeros((0, 5))\n",
        "        if len(annotation_id) == 0: \n",
        "            fp.write('')\n",
        "            continue\n",
        "           \n",
        "        # Récupération des bounding boxes\n",
        "        annotations = data_source.loadAnns(annotation_id)\n",
        "        lines = ''\n",
        "        file_lines = []  \n",
        "        for annotation in annotations:\n",
        "          \n",
        "          # Pour chaque annotation, récupérer le label depuis coco_labels_inverse et ajouter les bounding box sur la ligne.\n",
        "          # TODO\n",
        "          label = coco_labels_inverse[annotation['category_id']]\n",
        "          is_exist = True\n",
        "          \"\"\"\n",
        "          One row per object\n",
        "          Each row is class x_center y_center width height format.\n",
        "          Box coordinates must be in normalized xywh format (from 0 - 1).\n",
        "          Class numbers are zero-indexed (start from 0).\n",
        "          \"\"\"\n",
        "          bbox = annotation[\"bbox\"]\n",
        "          bbox[0] = round((bbox[0] + bbox[2] / 2) / width, 6)\n",
        "          bbox[1] = round((bbox[1] + bbox[3] / 2) / height, 6)\n",
        "          bbox[2] = round(bbox[2] / width, 6)\n",
        "          bbox[3] = round(bbox[3] / height, 6)\n",
        "          lines = str(str(label) +\" \"+ ' '.join(str(b) for b in bbox))\n",
        "          fp.writelines(lines + '\\n')\n",
        "        \n",
        "    # Si tout est OK, on enregistre dans le dossier data\n",
        "    if  is_exist:\n",
        "        shutil.copy('./tacotrashdataset/data/{}'.format(img_info['file_name']), os.path.join(save_image_path, save_name))\n",
        "    else:\n",
        "        #print(\"none\")\n",
        "        os.remove(save_path)"
      ]
    },
    {
      "cell_type": "code",
      "source": [],
      "metadata": {
        "id": "SiFJtmcURTgv"
      },
      "id": "SiFJtmcURTgv",
      "execution_count": null,
      "outputs": []
    },
    {
      "cell_type": "markdown",
      "id": "df2585b2-28c1-4fb6-9711-1bb04211a5c8",
      "metadata": {
        "id": "df2585b2-28c1-4fb6-9711-1bb04211a5c8"
      },
      "source": [
        "Pour terminer, il ne reste plus qu'à découper le dossier en trois sous-dossiers, qui vont représenter nos sous-ensembles d'entraînement, de test et de validation."
      ]
    },
    {
      "cell_type": "code",
      "execution_count": null,
      "id": "010f4d3b-c6da-4778-ae8a-41d6bf328131",
      "metadata": {
        "colab": {
          "base_uri": "https://localhost:8080/"
        },
        "id": "010f4d3b-c6da-4778-ae8a-41d6bf328131",
        "outputId": "2f02245c-072c-42b2-fdcb-5fcca05fff73"
      },
      "outputs": [
        {
          "output_type": "stream",
          "name": "stderr",
          "text": [
            "Copying files: 3000 files [00:34, 86.37 files/s]  \n"
          ]
        }
      ],
      "source": [
        "import splitfolders\n",
        "\n",
        "splitfolders.ratio(\"tmp\", output=\"taco\", ratio=(0.8, 0.1,0.1))"
      ]
    },
    {
      "cell_type": "markdown",
      "id": "b9d812f2-b762-46ba-b62a-c8aa40d1d5e3",
      "metadata": {
        "id": "b9d812f2-b762-46ba-b62a-c8aa40d1d5e3"
      },
      "source": [
        "Au final, notre dossier `taco/` va contenir nos trois dossiers : nous pouvons alors supprimer le dossier temporaire `tmp/`."
      ]
    },
    {
      "cell_type": "code",
      "execution_count": null,
      "id": "0ff5ee6a-ff07-4225-99a3-6f80c851d672",
      "metadata": {
        "id": "0ff5ee6a-ff07-4225-99a3-6f80c851d672"
      },
      "outputs": [],
      "source": [
        "!rm -rf ./tmp"
      ]
    }
  ],
  "metadata": {
    "kernelspec": {
      "display_name": "conda_python3",
      "language": "python",
      "name": "conda_python3"
    },
    "language_info": {
      "codemirror_mode": {
        "name": "ipython",
        "version": 3
      },
      "file_extension": ".py",
      "mimetype": "text/x-python",
      "name": "python",
      "nbconvert_exporter": "python",
      "pygments_lexer": "ipython3",
      "version": "3.10.8"
    },
    "colab": {
      "provenance": []
    }
  },
  "nbformat": 4,
  "nbformat_minor": 5
}